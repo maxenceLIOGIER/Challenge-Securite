{
 "cells": [
  {
   "cell_type": "code",
   "execution_count": 8,
   "metadata": {},
   "outputs": [
    {
     "name": "stdout",
     "output_type": "stream",
     "text": [
      "Fichier Parquet créé : C:/Users/rmartin10/Downloads/Challenge/configuration iptables/logiptables.parquet\n"
     ]
    }
   ],
   "source": [
    "import pandas as pd\n",
    "import re\n",
    "from datetime import datetime\n",
    "\n",
    "parquet_file = r\"C:/Users/rmartin10/Downloads/Challenge/configuration iptables/logiptables.parquet\"\n",
    "log_file = r\"C:/Users/rmartin10/Downloads/Challenge/iptables_ulogd2.log\"\n",
    "\n",
    "log_pattern = re.compile(\n",
    "    r'(?P<date>\\w+ \\d+ \\d+:\\d+:\\d+) \\S+ (?P<action>DENY|PERMIT)(?: RULE=(?P<rule>\\d+))? .*?'\n",
    "    r'IN=(?P<interface_in>\\S+) OUT=(?P<interface_out>\\S+)? .*?'\n",
    "    r'SRC=(?P<ipsrc>\\d+\\.\\d+\\.\\d+\\.\\d+) DST=(?P<ipdst>\\d+\\.\\d+\\.\\d+\\.\\d+) .*?'\n",
    "    r'PROTO=(?P<proto>\\S+) SPT=(?P<portsrc>\\d+) DPT=(?P<portdst>\\d+)'\n",
    ")\n",
    "\n",
    "log_data = []\n",
    "\n",
    "with open(log_file, \"r\") as f:\n",
    "    for line in f:\n",
    "        match = log_pattern.search(line)\n",
    "        if match:\n",
    "            log_entry = match.groupdict()\n",
    "            log_entry[\"date\"] = datetime.strptime(log_entry[\"date\"], \"%b %d %H:%M:%S\").replace(year=2025)\n",
    "            log_entry[\"portsrc\"] = float(log_entry[\"portsrc\"])\n",
    "            log_entry[\"portdst\"] = float(log_entry[\"portdst\"])\n",
    "            log_entry[\"rule\"] = float(log_entry[\"rule\"]) if log_entry[\"rule\"] else 999.0\n",
    "            log_entry[\"interface_out\"] = log_entry[\"interface_out\"] if log_entry[\"interface_out\"] else \"None\"\n",
    "            log_entry[\"divers\"] = 6.0 \n",
    "\n",
    "            log_data.append(log_entry)\n",
    "\n",
    "df = pd.DataFrame(log_data)\n",
    "\n",
    "df.to_parquet(parquet_file, engine=\"pyarrow\")\n",
    "\n",
    "print(f\"Fichier Parquet créé : {parquet_file}\")"
   ]
  }
 ],
 "metadata": {
  "kernelspec": {
   "display_name": "Python 3",
   "language": "python",
   "name": "python3"
  },
  "language_info": {
   "codemirror_mode": {
    "name": "ipython",
    "version": 3
   },
   "file_extension": ".py",
   "mimetype": "text/x-python",
   "name": "python",
   "nbconvert_exporter": "python",
   "pygments_lexer": "ipython3",
   "version": "3.12.4"
  }
 },
 "nbformat": 4,
 "nbformat_minor": 2
}
